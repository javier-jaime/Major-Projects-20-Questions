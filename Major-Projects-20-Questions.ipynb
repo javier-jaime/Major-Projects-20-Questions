{
 "cells": [
  {
   "cell_type": "markdown",
   "metadata": {},
   "source": [
    "# Major Projects 20 Questions : Part 1 Classification and Feature Engineering"
   ]
  },
  {
   "cell_type": "code",
   "execution_count": 1,
   "metadata": {},
   "outputs": [],
   "source": [
    "# Data Source: https://majorprojects.alberta.ca/\n",
    "# Major Projects are valued at $5 million or greater"
   ]
  },
  {
   "cell_type": "markdown",
   "metadata": {},
   "source": [
    "## Data Preparation"
   ]
  },
  {
   "cell_type": "markdown",
   "metadata": {},
   "source": [
    "Import necessary libraries"
   ]
  },
  {
   "cell_type": "code",
   "execution_count": 67,
   "metadata": {},
   "outputs": [],
   "source": [
    "import pandas as pd\n",
    "import json\n",
    "from sklearn.metrics import accuracy_score\n",
    "from sklearn.model_selection import train_test_split\n",
    "from sklearn.tree import DecisionTreeClassifier"
   ]
  },
  {
   "cell_type": "markdown",
   "metadata": {},
   "source": [
    "Create a Pandas DataFrame from a Excel file"
   ]
  },
  {
   "cell_type": "code",
   "execution_count": 143,
   "metadata": {},
   "outputs": [
    {
     "name": "stdout",
     "output_type": "stream",
     "text": [
      "(703, 14)\n"
     ]
    },
    {
     "data": {
      "text/html": [
       "<div>\n",
       "<style scoped>\n",
       "    .dataframe tbody tr th:only-of-type {\n",
       "        vertical-align: middle;\n",
       "    }\n",
       "\n",
       "    .dataframe tbody tr th {\n",
       "        vertical-align: top;\n",
       "    }\n",
       "\n",
       "    .dataframe thead th {\n",
       "        text-align: right;\n",
       "    }\n",
       "</style>\n",
       "<table border=\"1\" class=\"dataframe\">\n",
       "  <thead>\n",
       "    <tr style=\"text-align: right;\">\n",
       "      <th></th>\n",
       "      <th>ProjectId</th>\n",
       "      <th>Name</th>\n",
       "      <th>Estimated Cost</th>\n",
       "      <th>Municipality</th>\n",
       "      <th>Schedule</th>\n",
       "      <th>Sector</th>\n",
       "      <th>Type</th>\n",
       "      <th>Stage</th>\n",
       "      <th>Developer</th>\n",
       "      <th>Contractor</th>\n",
       "      <th>Architect</th>\n",
       "      <th>Project Website</th>\n",
       "      <th>Location</th>\n",
       "      <th>Detail</th>\n",
       "    </tr>\n",
       "  </thead>\n",
       "  <tbody>\n",
       "    <tr>\n",
       "      <th>0</th>\n",
       "      <td>7</td>\n",
       "      <td>StoneGate Landing</td>\n",
       "      <td>3.000000e+09</td>\n",
       "      <td>Calgary</td>\n",
       "      <td>2010 - 2021</td>\n",
       "      <td>Mixed-Use</td>\n",
       "      <td>NaN</td>\n",
       "      <td>Under Construction</td>\n",
       "      <td>WAM Development Group / AIMCo</td>\n",
       "      <td>NaN</td>\n",
       "      <td>NaN</td>\n",
       "      <td>www.stonegatelanding.ca/</td>\n",
       "      <td>{\"type\":\"Feature\",\"geometry\":{\"type\":\"Point\",\"...</td>\n",
       "      <td>StoneGate Landing is slated to be the largest ...</td>\n",
       "    </tr>\n",
       "    <tr>\n",
       "      <th>1</th>\n",
       "      <td>11</td>\n",
       "      <td>Shepard Station Suburban Office Campus Building 1</td>\n",
       "      <td>2.200000e+07</td>\n",
       "      <td>Calgary</td>\n",
       "      <td>2019 - 2020</td>\n",
       "      <td>Commercial</td>\n",
       "      <td>Office: Low-Rise</td>\n",
       "      <td>Under Construction</td>\n",
       "      <td>Shepard Development Corp.</td>\n",
       "      <td>Shepard Development Corporation / CANA / ACE C...</td>\n",
       "      <td>NaN</td>\n",
       "      <td>http://www.shepardstation.com/</td>\n",
       "      <td>{\"type\":\"Feature\",\"geometry\":{\"type\":\"Point\",\"...</td>\n",
       "      <td>The Shepard Suburban Office Campus is a 33-acr...</td>\n",
       "    </tr>\n",
       "    <tr>\n",
       "      <th>2</th>\n",
       "      <td>22</td>\n",
       "      <td>Barron Building Renovation</td>\n",
       "      <td>1.000000e+08</td>\n",
       "      <td>Calgary</td>\n",
       "      <td>Commencing 2021</td>\n",
       "      <td>Residential</td>\n",
       "      <td>Apartment: Mid-Rise</td>\n",
       "      <td>Proposed</td>\n",
       "      <td>Strategic Group</td>\n",
       "      <td>NaN</td>\n",
       "      <td>NaN</td>\n",
       "      <td>https://www.strategicgroup.ca/commercial/calga...</td>\n",
       "      <td>{\"type\":\"Feature\",\"geometry\":{\"type\":\"Point\",\"...</td>\n",
       "      <td>Conversion of the Barron Building into a 94 un...</td>\n",
       "    </tr>\n",
       "    <tr>\n",
       "      <th>3</th>\n",
       "      <td>26</td>\n",
       "      <td>Quarry Crossing II Office Building</td>\n",
       "      <td>7.280000e+07</td>\n",
       "      <td>Calgary</td>\n",
       "      <td>NaN</td>\n",
       "      <td>Commercial</td>\n",
       "      <td>Office: Low-Rise</td>\n",
       "      <td>Proposed</td>\n",
       "      <td>Remington Development Corp.</td>\n",
       "      <td>NaN</td>\n",
       "      <td>NaN</td>\n",
       "      <td>http://www.remingtoncorp.com/leasingLocation.p...</td>\n",
       "      <td>{\"type\":\"Feature\",\"geometry\":{\"type\":\"Point\",\"...</td>\n",
       "      <td>A 512,000 sq ft office building project in Cal...</td>\n",
       "    </tr>\n",
       "    <tr>\n",
       "      <th>4</th>\n",
       "      <td>32</td>\n",
       "      <td>Nolan Hill TownHomes</td>\n",
       "      <td>5.000000e+06</td>\n",
       "      <td>Calgary</td>\n",
       "      <td>NaN</td>\n",
       "      <td>Residential</td>\n",
       "      <td>Townhouses</td>\n",
       "      <td>Proposed</td>\n",
       "      <td>Jayman Modus</td>\n",
       "      <td>NaN</td>\n",
       "      <td>NaN</td>\n",
       "      <td>NaN</td>\n",
       "      <td>{\"type\":\"Feature\",\"geometry\":{\"type\":\"Point\",\"...</td>\n",
       "      <td>NaN</td>\n",
       "    </tr>\n",
       "  </tbody>\n",
       "</table>\n",
       "</div>"
      ],
      "text/plain": [
       "   ProjectId                                               Name  \\\n",
       "0          7                                  StoneGate Landing   \n",
       "1         11  Shepard Station Suburban Office Campus Building 1   \n",
       "2         22                         Barron Building Renovation   \n",
       "3         26                 Quarry Crossing II Office Building   \n",
       "4         32                               Nolan Hill TownHomes   \n",
       "\n",
       "   Estimated Cost Municipality         Schedule       Sector  \\\n",
       "0    3.000000e+09      Calgary      2010 - 2021    Mixed-Use   \n",
       "1    2.200000e+07      Calgary      2019 - 2020   Commercial   \n",
       "2    1.000000e+08      Calgary  Commencing 2021  Residential   \n",
       "3    7.280000e+07      Calgary              NaN   Commercial   \n",
       "4    5.000000e+06      Calgary              NaN  Residential   \n",
       "\n",
       "                  Type               Stage                      Developer  \\\n",
       "0                  NaN  Under Construction  WAM Development Group / AIMCo   \n",
       "1     Office: Low-Rise  Under Construction      Shepard Development Corp.   \n",
       "2  Apartment: Mid-Rise            Proposed                Strategic Group   \n",
       "3     Office: Low-Rise            Proposed    Remington Development Corp.   \n",
       "4           Townhouses            Proposed                   Jayman Modus   \n",
       "\n",
       "                                          Contractor Architect  \\\n",
       "0                                                NaN       NaN   \n",
       "1  Shepard Development Corporation / CANA / ACE C...       NaN   \n",
       "2                                                NaN       NaN   \n",
       "3                                                NaN       NaN   \n",
       "4                                                NaN       NaN   \n",
       "\n",
       "                                     Project Website  \\\n",
       "0                           www.stonegatelanding.ca/   \n",
       "1                     http://www.shepardstation.com/   \n",
       "2  https://www.strategicgroup.ca/commercial/calga...   \n",
       "3  http://www.remingtoncorp.com/leasingLocation.p...   \n",
       "4                                                NaN   \n",
       "\n",
       "                                            Location  \\\n",
       "0  {\"type\":\"Feature\",\"geometry\":{\"type\":\"Point\",\"...   \n",
       "1  {\"type\":\"Feature\",\"geometry\":{\"type\":\"Point\",\"...   \n",
       "2  {\"type\":\"Feature\",\"geometry\":{\"type\":\"Point\",\"...   \n",
       "3  {\"type\":\"Feature\",\"geometry\":{\"type\":\"Point\",\"...   \n",
       "4  {\"type\":\"Feature\",\"geometry\":{\"type\":\"Point\",\"...   \n",
       "\n",
       "                                              Detail  \n",
       "0  StoneGate Landing is slated to be the largest ...  \n",
       "1  The Shepard Suburban Office Campus is a 33-acr...  \n",
       "2  Conversion of the Barron Building into a 94 un...  \n",
       "3  A 512,000 sq ft office building project in Cal...  \n",
       "4                                                NaN  "
      ]
     },
     "execution_count": 143,
     "metadata": {},
     "output_type": "execute_result"
    }
   ],
   "source": [
    "data = pd.read_excel('./Major Projects Export.xlsx')\n",
    "print(data.shape)\n",
    "data.head()"
   ]
  },
  {
   "cell_type": "markdown",
   "metadata": {},
   "source": [
    "Extract from geojson the start location coordinates (Longitude, Latitude)"
   ]
  },
  {
   "cell_type": "code",
   "execution_count": 144,
   "metadata": {},
   "outputs": [],
   "source": [
    "data['Location'] = data['Location'].apply(json.loads)\n",
    "\n",
    "Latitude = []\n",
    "Longitude = []\n",
    "\n",
    "for i in range(len(data)):\n",
    "    geo = data['Location'][i]['geometry']\n",
    "    if geo['type'] == 'Point':\n",
    "        Longitude.append(geo['coordinates'][0])\n",
    "        Latitude.append(geo['coordinates'][1])\n",
    "    elif geo['type'] == 'LineString':\n",
    "            Longitude.append(geo['coordinates'][0][0])\n",
    "            Latitude.append(geo['coordinates'][0][1])\n",
    "    elif geo['geometries'][0]['type'] == 'Point':\n",
    "            Longitude.append(data['Location'][i]['geometry']['geometries'][0]['coordinates'][0])\n",
    "            Latitude.append(data['Location'][i]['geometry']['geometries'][0]['coordinates'][1])\n",
    "    elif geo['geometries'][0]['type'] == 'LineString':\n",
    "            Longitude.append(data['Location'][i]['geometry']['geometries'][0]['coordinates'][0][0])\n",
    "            Latitude.append(data['Location'][i]['geometry']['geometries'][0]['coordinates'][0][1])\n",
    "    else:\n",
    "        print('New Type Error')\n",
    "        \n",
    "data['Start Latitude'] = Latitude\n",
    "data['Start Longitude'] = Longitude"
   ]
  },
  {
   "cell_type": "markdown",
   "metadata": {},
   "source": [
    "Drop rows where there is no Estimated Cost and divide cost by a million"
   ]
  },
  {
   "cell_type": "code",
   "execution_count": 145,
   "metadata": {},
   "outputs": [
    {
     "data": {
      "text/plain": [
       "(695, 16)"
      ]
     },
     "execution_count": 145,
     "metadata": {},
     "output_type": "execute_result"
    }
   ],
   "source": [
    "data = data.dropna(subset=['Estimated Cost'])\n",
    "data['Estimated Cost'] = data['Estimated Cost']/(1e6)\n",
    "data.shape"
   ]
  },
  {
   "cell_type": "markdown",
   "metadata": {},
   "source": [
    "Change Schedule Completion, assume 2027 for all proposed Project w/o Schedule"
   ]
  },
  {
   "cell_type": "code",
   "execution_count": 146,
   "metadata": {},
   "outputs": [],
   "source": [
    "data['Schedule'] = data['Schedule'].str[-4:]\n",
    "data['Schedule'] = data['Schedule'].fillna(2027)\n",
    "data['Schedule'] = data['Schedule'].astype(int)"
   ]
  },
  {
   "cell_type": "markdown",
   "metadata": {},
   "source": [
    "Rename Colums"
   ]
  },
  {
   "cell_type": "code",
   "execution_count": 147,
   "metadata": {},
   "outputs": [],
   "source": [
    "data.rename(columns={'Name':'Project Name', 'Estimated Cost':'Estimated Cost (millions)', 'Schedule':'Forecasted Completion'}, inplace=True)"
   ]
  },
  {
   "cell_type": "markdown",
   "metadata": {},
   "source": [
    "Assume that Projects that were under construction before 2020 are complete(unless are Cancelled or On Hold)"
   ]
  },
  {
   "cell_type": "code",
   "execution_count": 148,
   "metadata": {},
   "outputs": [
    {
     "data": {
      "text/plain": [
       "Proposed     321\n",
       "Started      306\n",
       "Completed     68\n",
       "Name: Stage, dtype: int64"
      ]
     },
     "execution_count": 148,
     "metadata": {},
     "output_type": "execute_result"
    }
   ],
   "source": [
    "data.loc[data['Forecasted Completion']<2020, 'Stage']='Completed'\n",
    "data['Stage'] = data['Stage'].replace('Under Construction','Started')\n",
    "data['Stage'].value_counts()"
   ]
  },
  {
   "cell_type": "markdown",
   "metadata": {},
   "source": [
    "Make Type equal to Sector when there is no type (except Infrastructure)"
   ]
  },
  {
   "cell_type": "code",
   "execution_count": 149,
   "metadata": {},
   "outputs": [],
   "source": [
    "data['Type'] = data['Type'].fillna(data['Sector'])\n",
    "data['Type'] = data['Type'].replace('Infrastructure','Other')"
   ]
  },
  {
   "cell_type": "markdown",
   "metadata": {},
   "source": [
    "Drop columns not needed and set ProjectId as index"
   ]
  },
  {
   "cell_type": "code",
   "execution_count": 150,
   "metadata": {},
   "outputs": [
    {
     "data": {
      "text/html": [
       "<div>\n",
       "<style scoped>\n",
       "    .dataframe tbody tr th:only-of-type {\n",
       "        vertical-align: middle;\n",
       "    }\n",
       "\n",
       "    .dataframe tbody tr th {\n",
       "        vertical-align: top;\n",
       "    }\n",
       "\n",
       "    .dataframe thead th {\n",
       "        text-align: right;\n",
       "    }\n",
       "</style>\n",
       "<table border=\"1\" class=\"dataframe\">\n",
       "  <thead>\n",
       "    <tr style=\"text-align: right;\">\n",
       "      <th></th>\n",
       "      <th>Project Name</th>\n",
       "      <th>Estimated Cost (millions)</th>\n",
       "      <th>Municipality</th>\n",
       "      <th>Forecasted Completion</th>\n",
       "      <th>Sector</th>\n",
       "      <th>Type</th>\n",
       "      <th>Stage</th>\n",
       "      <th>Developer</th>\n",
       "      <th>Start Latitude</th>\n",
       "      <th>Start Longitude</th>\n",
       "    </tr>\n",
       "    <tr>\n",
       "      <th>ProjectId</th>\n",
       "      <th></th>\n",
       "      <th></th>\n",
       "      <th></th>\n",
       "      <th></th>\n",
       "      <th></th>\n",
       "      <th></th>\n",
       "      <th></th>\n",
       "      <th></th>\n",
       "      <th></th>\n",
       "      <th></th>\n",
       "    </tr>\n",
       "  </thead>\n",
       "  <tbody>\n",
       "    <tr>\n",
       "      <th>7</th>\n",
       "      <td>StoneGate Landing</td>\n",
       "      <td>3000.0</td>\n",
       "      <td>Calgary</td>\n",
       "      <td>2021</td>\n",
       "      <td>Mixed-Use</td>\n",
       "      <td>Mixed-Use</td>\n",
       "      <td>Started</td>\n",
       "      <td>WAM Development Group / AIMCo</td>\n",
       "      <td>51.172501</td>\n",
       "      <td>-113.975800</td>\n",
       "    </tr>\n",
       "    <tr>\n",
       "      <th>11</th>\n",
       "      <td>Shepard Station Suburban Office Campus Building 1</td>\n",
       "      <td>22.0</td>\n",
       "      <td>Calgary</td>\n",
       "      <td>2020</td>\n",
       "      <td>Commercial</td>\n",
       "      <td>Office: Low-Rise</td>\n",
       "      <td>Started</td>\n",
       "      <td>Shepard Development Corp.</td>\n",
       "      <td>50.931721</td>\n",
       "      <td>-113.970596</td>\n",
       "    </tr>\n",
       "    <tr>\n",
       "      <th>22</th>\n",
       "      <td>Barron Building Renovation</td>\n",
       "      <td>100.0</td>\n",
       "      <td>Calgary</td>\n",
       "      <td>2021</td>\n",
       "      <td>Residential</td>\n",
       "      <td>Apartment: Mid-Rise</td>\n",
       "      <td>Proposed</td>\n",
       "      <td>Strategic Group</td>\n",
       "      <td>51.046070</td>\n",
       "      <td>-114.076614</td>\n",
       "    </tr>\n",
       "    <tr>\n",
       "      <th>26</th>\n",
       "      <td>Quarry Crossing II Office Building</td>\n",
       "      <td>72.8</td>\n",
       "      <td>Calgary</td>\n",
       "      <td>2027</td>\n",
       "      <td>Commercial</td>\n",
       "      <td>Office: Low-Rise</td>\n",
       "      <td>Proposed</td>\n",
       "      <td>Remington Development Corp.</td>\n",
       "      <td>50.966900</td>\n",
       "      <td>-114.002899</td>\n",
       "    </tr>\n",
       "    <tr>\n",
       "      <th>32</th>\n",
       "      <td>Nolan Hill TownHomes</td>\n",
       "      <td>5.0</td>\n",
       "      <td>Calgary</td>\n",
       "      <td>2027</td>\n",
       "      <td>Residential</td>\n",
       "      <td>Townhouses</td>\n",
       "      <td>Proposed</td>\n",
       "      <td>Jayman Modus</td>\n",
       "      <td>51.162041</td>\n",
       "      <td>-114.160912</td>\n",
       "    </tr>\n",
       "    <tr>\n",
       "      <th>...</th>\n",
       "      <td>...</td>\n",
       "      <td>...</td>\n",
       "      <td>...</td>\n",
       "      <td>...</td>\n",
       "      <td>...</td>\n",
       "      <td>...</td>\n",
       "      <td>...</td>\n",
       "      <td>...</td>\n",
       "      <td>...</td>\n",
       "      <td>...</td>\n",
       "    </tr>\n",
       "    <tr>\n",
       "      <th>4268</th>\n",
       "      <td>Ben Calf Robe School Replacement</td>\n",
       "      <td>25.6</td>\n",
       "      <td>Edmonton</td>\n",
       "      <td>2021</td>\n",
       "      <td>Institutional</td>\n",
       "      <td>School</td>\n",
       "      <td>Started</td>\n",
       "      <td>Edmonton Catholic School District</td>\n",
       "      <td>53.571312</td>\n",
       "      <td>-113.438348</td>\n",
       "    </tr>\n",
       "    <tr>\n",
       "      <th>4269</th>\n",
       "      <td>École A la Decouverte School</td>\n",
       "      <td>17.2</td>\n",
       "      <td>Edmonton</td>\n",
       "      <td>2022</td>\n",
       "      <td>Institutional</td>\n",
       "      <td>School</td>\n",
       "      <td>Started</td>\n",
       "      <td>The Greater North Central Francophone Educatio...</td>\n",
       "      <td>53.641039</td>\n",
       "      <td>-113.503243</td>\n",
       "    </tr>\n",
       "    <tr>\n",
       "      <th>4270</th>\n",
       "      <td>Ecole Secondaire Beaumont Composition High Sch...</td>\n",
       "      <td>14.0</td>\n",
       "      <td>Beaumont</td>\n",
       "      <td>2022</td>\n",
       "      <td>Institutional</td>\n",
       "      <td>School</td>\n",
       "      <td>Started</td>\n",
       "      <td>The Black Gold School Division</td>\n",
       "      <td>53.348926</td>\n",
       "      <td>-113.422593</td>\n",
       "    </tr>\n",
       "    <tr>\n",
       "      <th>4271</th>\n",
       "      <td>Conestoga Cold Storage Expansion</td>\n",
       "      <td>5.6</td>\n",
       "      <td>Calgary</td>\n",
       "      <td>2021</td>\n",
       "      <td>Commercial</td>\n",
       "      <td>Distribution Centre</td>\n",
       "      <td>Proposed</td>\n",
       "      <td>Conestoga Cold Storage</td>\n",
       "      <td>51.012512</td>\n",
       "      <td>-113.994492</td>\n",
       "    </tr>\n",
       "    <tr>\n",
       "      <th>4272</th>\n",
       "      <td>Claresholm Solar Project</td>\n",
       "      <td>200.0</td>\n",
       "      <td>Willow Creek No. 26</td>\n",
       "      <td>2021</td>\n",
       "      <td>Power</td>\n",
       "      <td>Solar</td>\n",
       "      <td>Started</td>\n",
       "      <td>Claresholm Solar LP</td>\n",
       "      <td>50.022786</td>\n",
       "      <td>-113.760531</td>\n",
       "    </tr>\n",
       "  </tbody>\n",
       "</table>\n",
       "<p>695 rows × 10 columns</p>\n",
       "</div>"
      ],
      "text/plain": [
       "                                                Project Name  \\\n",
       "ProjectId                                                      \n",
       "7                                          StoneGate Landing   \n",
       "11         Shepard Station Suburban Office Campus Building 1   \n",
       "22                                Barron Building Renovation   \n",
       "26                        Quarry Crossing II Office Building   \n",
       "32                                      Nolan Hill TownHomes   \n",
       "...                                                      ...   \n",
       "4268                        Ben Calf Robe School Replacement   \n",
       "4269                            École A la Decouverte School   \n",
       "4270       Ecole Secondaire Beaumont Composition High Sch...   \n",
       "4271                        Conestoga Cold Storage Expansion   \n",
       "4272                                Claresholm Solar Project   \n",
       "\n",
       "           Estimated Cost (millions)         Municipality  \\\n",
       "ProjectId                                                   \n",
       "7                             3000.0              Calgary   \n",
       "11                              22.0              Calgary   \n",
       "22                             100.0              Calgary   \n",
       "26                              72.8              Calgary   \n",
       "32                               5.0              Calgary   \n",
       "...                              ...                  ...   \n",
       "4268                            25.6             Edmonton   \n",
       "4269                            17.2             Edmonton   \n",
       "4270                            14.0             Beaumont   \n",
       "4271                             5.6              Calgary   \n",
       "4272                           200.0  Willow Creek No. 26   \n",
       "\n",
       "           Forecasted Completion         Sector                 Type  \\\n",
       "ProjectId                                                              \n",
       "7                           2021      Mixed-Use            Mixed-Use   \n",
       "11                          2020     Commercial     Office: Low-Rise   \n",
       "22                          2021    Residential  Apartment: Mid-Rise   \n",
       "26                          2027     Commercial     Office: Low-Rise   \n",
       "32                          2027    Residential           Townhouses   \n",
       "...                          ...            ...                  ...   \n",
       "4268                        2021  Institutional               School   \n",
       "4269                        2022  Institutional               School   \n",
       "4270                        2022  Institutional               School   \n",
       "4271                        2021     Commercial  Distribution Centre   \n",
       "4272                        2021          Power                Solar   \n",
       "\n",
       "              Stage                                          Developer  \\\n",
       "ProjectId                                                                \n",
       "7           Started                      WAM Development Group / AIMCo   \n",
       "11          Started                          Shepard Development Corp.   \n",
       "22         Proposed                                    Strategic Group   \n",
       "26         Proposed                        Remington Development Corp.   \n",
       "32         Proposed                                       Jayman Modus   \n",
       "...             ...                                                ...   \n",
       "4268        Started                  Edmonton Catholic School District   \n",
       "4269        Started  The Greater North Central Francophone Educatio...   \n",
       "4270        Started                     The Black Gold School Division   \n",
       "4271       Proposed                             Conestoga Cold Storage   \n",
       "4272        Started                                Claresholm Solar LP   \n",
       "\n",
       "           Start Latitude  Start Longitude  \n",
       "ProjectId                                   \n",
       "7               51.172501      -113.975800  \n",
       "11              50.931721      -113.970596  \n",
       "22              51.046070      -114.076614  \n",
       "26              50.966900      -114.002899  \n",
       "32              51.162041      -114.160912  \n",
       "...                   ...              ...  \n",
       "4268            53.571312      -113.438348  \n",
       "4269            53.641039      -113.503243  \n",
       "4270            53.348926      -113.422593  \n",
       "4271            51.012512      -113.994492  \n",
       "4272            50.022786      -113.760531  \n",
       "\n",
       "[695 rows x 10 columns]"
      ]
     },
     "execution_count": 150,
     "metadata": {},
     "output_type": "execute_result"
    }
   ],
   "source": [
    "data.drop(columns=['Contractor','Architect','Project Website', 'Detail', 'Location'], inplace=True)\n",
    "data.set_index('ProjectId')"
   ]
  },
  {
   "cell_type": "code",
   "execution_count": 151,
   "metadata": {},
   "outputs": [
    {
     "data": {
      "text/plain": [
       "ProjectId                    False\n",
       "Project Name                 False\n",
       "Estimated Cost (millions)    False\n",
       "Municipality                 False\n",
       "Forecasted Completion        False\n",
       "Sector                       False\n",
       "Type                         False\n",
       "Stage                        False\n",
       "Developer                    False\n",
       "Start Latitude               False\n",
       "Start Longitude              False\n",
       "dtype: bool"
      ]
     },
     "execution_count": 151,
     "metadata": {},
     "output_type": "execute_result"
    }
   ],
   "source": [
    "data.isnull().any()"
   ]
  },
  {
   "cell_type": "markdown",
   "metadata": {},
   "source": [
    "## Data Exploration"
   ]
  },
  {
   "cell_type": "markdown",
   "metadata": {},
   "source": [
    "### Descriptive Statistics"
   ]
  },
  {
   "cell_type": "code",
   "execution_count": 152,
   "metadata": {},
   "outputs": [
    {
     "data": {
      "text/html": [
       "<div>\n",
       "<style scoped>\n",
       "    .dataframe tbody tr th:only-of-type {\n",
       "        vertical-align: middle;\n",
       "    }\n",
       "\n",
       "    .dataframe tbody tr th {\n",
       "        vertical-align: top;\n",
       "    }\n",
       "\n",
       "    .dataframe thead th {\n",
       "        text-align: right;\n",
       "    }\n",
       "</style>\n",
       "<table border=\"1\" class=\"dataframe\">\n",
       "  <thead>\n",
       "    <tr style=\"text-align: right;\">\n",
       "      <th></th>\n",
       "      <th>count</th>\n",
       "      <th>unique</th>\n",
       "      <th>top</th>\n",
       "      <th>freq</th>\n",
       "    </tr>\n",
       "  </thead>\n",
       "  <tbody>\n",
       "    <tr>\n",
       "      <th>Project Name</th>\n",
       "      <td>695</td>\n",
       "      <td>695</td>\n",
       "      <td>Sand/salt Storage Building</td>\n",
       "      <td>1</td>\n",
       "    </tr>\n",
       "    <tr>\n",
       "      <th>Municipality</th>\n",
       "      <td>695</td>\n",
       "      <td>148</td>\n",
       "      <td>Calgary</td>\n",
       "      <td>181</td>\n",
       "    </tr>\n",
       "    <tr>\n",
       "      <th>Sector</th>\n",
       "      <td>695</td>\n",
       "      <td>11</td>\n",
       "      <td>Infrastructure</td>\n",
       "      <td>158</td>\n",
       "    </tr>\n",
       "    <tr>\n",
       "      <th>Type</th>\n",
       "      <td>695</td>\n",
       "      <td>56</td>\n",
       "      <td>Roadwork</td>\n",
       "      <td>79</td>\n",
       "    </tr>\n",
       "    <tr>\n",
       "      <th>Stage</th>\n",
       "      <td>695</td>\n",
       "      <td>3</td>\n",
       "      <td>Proposed</td>\n",
       "      <td>321</td>\n",
       "    </tr>\n",
       "    <tr>\n",
       "      <th>Developer</th>\n",
       "      <td>695</td>\n",
       "      <td>414</td>\n",
       "      <td>City of Edmonton</td>\n",
       "      <td>33</td>\n",
       "    </tr>\n",
       "  </tbody>\n",
       "</table>\n",
       "</div>"
      ],
      "text/plain": [
       "             count unique                         top freq\n",
       "Project Name   695    695  Sand/salt Storage Building    1\n",
       "Municipality   695    148                     Calgary  181\n",
       "Sector         695     11              Infrastructure  158\n",
       "Type           695     56                    Roadwork   79\n",
       "Stage          695      3                    Proposed  321\n",
       "Developer      695    414            City of Edmonton   33"
      ]
     },
     "execution_count": 152,
     "metadata": {},
     "output_type": "execute_result"
    }
   ],
   "source": [
    "data.describe(include=[object]).transpose()"
   ]
  },
  {
   "cell_type": "code",
   "execution_count": 153,
   "metadata": {},
   "outputs": [
    {
     "data": {
      "text/html": [
       "<div>\n",
       "<style scoped>\n",
       "    .dataframe tbody tr th:only-of-type {\n",
       "        vertical-align: middle;\n",
       "    }\n",
       "\n",
       "    .dataframe tbody tr th {\n",
       "        vertical-align: top;\n",
       "    }\n",
       "\n",
       "    .dataframe thead th {\n",
       "        text-align: right;\n",
       "    }\n",
       "</style>\n",
       "<table border=\"1\" class=\"dataframe\">\n",
       "  <thead>\n",
       "    <tr style=\"text-align: right;\">\n",
       "      <th></th>\n",
       "      <th>count</th>\n",
       "      <th>mean</th>\n",
       "      <th>std</th>\n",
       "      <th>min</th>\n",
       "      <th>25%</th>\n",
       "      <th>50%</th>\n",
       "      <th>75%</th>\n",
       "      <th>max</th>\n",
       "    </tr>\n",
       "  </thead>\n",
       "  <tbody>\n",
       "    <tr>\n",
       "      <th>Estimated Cost (millions)</th>\n",
       "      <td>695.0</td>\n",
       "      <td>222.06</td>\n",
       "      <td>971.86</td>\n",
       "      <td>5.00</td>\n",
       "      <td>10.10</td>\n",
       "      <td>23.00</td>\n",
       "      <td>73.90</td>\n",
       "      <td>16000.00</td>\n",
       "    </tr>\n",
       "    <tr>\n",
       "      <th>Forecasted Completion</th>\n",
       "      <td>695.0</td>\n",
       "      <td>2022.11</td>\n",
       "      <td>3.14</td>\n",
       "      <td>2014.00</td>\n",
       "      <td>2020.00</td>\n",
       "      <td>2021.00</td>\n",
       "      <td>2024.00</td>\n",
       "      <td>2027.00</td>\n",
       "    </tr>\n",
       "    <tr>\n",
       "      <th>Start Latitude</th>\n",
       "      <td>695.0</td>\n",
       "      <td>52.51</td>\n",
       "      <td>1.81</td>\n",
       "      <td>49.02</td>\n",
       "      <td>51.04</td>\n",
       "      <td>52.82</td>\n",
       "      <td>53.55</td>\n",
       "      <td>58.48</td>\n",
       "    </tr>\n",
       "    <tr>\n",
       "      <th>Start Longitude</th>\n",
       "      <td>695.0</td>\n",
       "      <td>-113.80</td>\n",
       "      <td>1.63</td>\n",
       "      <td>-119.77</td>\n",
       "      <td>-114.08</td>\n",
       "      <td>-113.70</td>\n",
       "      <td>-113.39</td>\n",
       "      <td>-110.01</td>\n",
       "    </tr>\n",
       "  </tbody>\n",
       "</table>\n",
       "</div>"
      ],
      "text/plain": [
       "                           count     mean     std      min      25%      50%  \\\n",
       "Estimated Cost (millions)  695.0   222.06  971.86     5.00    10.10    23.00   \n",
       "Forecasted Completion      695.0  2022.11    3.14  2014.00  2020.00  2021.00   \n",
       "Start Latitude             695.0    52.51    1.81    49.02    51.04    52.82   \n",
       "Start Longitude            695.0  -113.80    1.63  -119.77  -114.08  -113.70   \n",
       "\n",
       "                               75%       max  \n",
       "Estimated Cost (millions)    73.90  16000.00  \n",
       "Forecasted Completion      2024.00   2027.00  \n",
       "Start Latitude               53.55     58.48  \n",
       "Start Longitude            -113.39   -110.01  "
      ]
     },
     "execution_count": 153,
     "metadata": {},
     "output_type": "execute_result"
    }
   ],
   "source": [
    "data.describe(exclude=['int64','object']).transpose().round(2)"
   ]
  },
  {
   "cell_type": "markdown",
   "metadata": {},
   "source": [
    "The Most Expensive Projects are (above $5m):"
   ]
  },
  {
   "cell_type": "code",
   "execution_count": 154,
   "metadata": {},
   "outputs": [
    {
     "data": {
      "text/html": [
       "<div>\n",
       "<style scoped>\n",
       "    .dataframe tbody tr th:only-of-type {\n",
       "        vertical-align: middle;\n",
       "    }\n",
       "\n",
       "    .dataframe tbody tr th {\n",
       "        vertical-align: top;\n",
       "    }\n",
       "\n",
       "    .dataframe thead th {\n",
       "        text-align: right;\n",
       "    }\n",
       "</style>\n",
       "<table border=\"1\" class=\"dataframe\">\n",
       "  <thead>\n",
       "    <tr style=\"text-align: right;\">\n",
       "      <th></th>\n",
       "      <th>ProjectId</th>\n",
       "      <th>Project Name</th>\n",
       "      <th>Estimated Cost (millions)</th>\n",
       "      <th>Municipality</th>\n",
       "      <th>Forecasted Completion</th>\n",
       "      <th>Sector</th>\n",
       "      <th>Type</th>\n",
       "      <th>Stage</th>\n",
       "      <th>Developer</th>\n",
       "      <th>Start Latitude</th>\n",
       "      <th>Start Longitude</th>\n",
       "    </tr>\n",
       "  </thead>\n",
       "  <tbody>\n",
       "    <tr>\n",
       "      <th>151</th>\n",
       "      <td>614</td>\n",
       "      <td>Trans Mountain Pipeline Expansion</td>\n",
       "      <td>7400.0</td>\n",
       "      <td>Yellowhead County|Improvement District No. 12 ...</td>\n",
       "      <td>2019</td>\n",
       "      <td>Pipelines</td>\n",
       "      <td>Pipelines</td>\n",
       "      <td>Completed</td>\n",
       "      <td>Government of Canada/Trans Mountain Corporation</td>\n",
       "      <td>53.543042</td>\n",
       "      <td>-113.361502</td>\n",
       "    </tr>\n",
       "    <tr>\n",
       "      <th>193</th>\n",
       "      <td>873</td>\n",
       "      <td>Green Line LRT, Stage 1</td>\n",
       "      <td>5500.0</td>\n",
       "      <td>Calgary</td>\n",
       "      <td>2026</td>\n",
       "      <td>Infrastructure</td>\n",
       "      <td>Transit</td>\n",
       "      <td>Proposed</td>\n",
       "      <td>City of Calgary</td>\n",
       "      <td>50.931484</td>\n",
       "      <td>-113.968971</td>\n",
       "    </tr>\n",
       "    <tr>\n",
       "      <th>280</th>\n",
       "      <td>3579</td>\n",
       "      <td>Keystone XL</td>\n",
       "      <td>10000.0</td>\n",
       "      <td>Cypress County|Provost No. 52|Special Area No....</td>\n",
       "      <td>2020</td>\n",
       "      <td>Pipelines</td>\n",
       "      <td>Pipelines</td>\n",
       "      <td>Started</td>\n",
       "      <td>TransCanada Energy Ltd.</td>\n",
       "      <td>52.635032</td>\n",
       "      <td>-111.275432</td>\n",
       "    </tr>\n",
       "    <tr>\n",
       "      <th>335</th>\n",
       "      <td>3735</td>\n",
       "      <td>SinoCan Global Upgrader and Petrochemical Faci...</td>\n",
       "      <td>8500.0</td>\n",
       "      <td>Lamont County</td>\n",
       "      <td>2021</td>\n",
       "      <td>Oil and Gas</td>\n",
       "      <td>Upgrader</td>\n",
       "      <td>Proposed</td>\n",
       "      <td>SinoCan Global</td>\n",
       "      <td>53.775939</td>\n",
       "      <td>-112.825255</td>\n",
       "    </tr>\n",
       "    <tr>\n",
       "      <th>432</th>\n",
       "      <td>3921</td>\n",
       "      <td>Telus Infrastructure Upgrades (Province wide)</td>\n",
       "      <td>16000.0</td>\n",
       "      <td>Edmonton</td>\n",
       "      <td>2024</td>\n",
       "      <td>Industrial</td>\n",
       "      <td>Telecommunication</td>\n",
       "      <td>Started</td>\n",
       "      <td>TELUS</td>\n",
       "      <td>53.540116</td>\n",
       "      <td>-113.491361</td>\n",
       "    </tr>\n",
       "  </tbody>\n",
       "</table>\n",
       "</div>"
      ],
      "text/plain": [
       "     ProjectId                                       Project Name  \\\n",
       "151        614                  Trans Mountain Pipeline Expansion   \n",
       "193        873                            Green Line LRT, Stage 1   \n",
       "280       3579                                        Keystone XL   \n",
       "335       3735  SinoCan Global Upgrader and Petrochemical Faci...   \n",
       "432       3921      Telus Infrastructure Upgrades (Province wide)   \n",
       "\n",
       "     Estimated Cost (millions)  \\\n",
       "151                     7400.0   \n",
       "193                     5500.0   \n",
       "280                    10000.0   \n",
       "335                     8500.0   \n",
       "432                    16000.0   \n",
       "\n",
       "                                          Municipality  Forecasted Completion  \\\n",
       "151  Yellowhead County|Improvement District No. 12 ...                   2019   \n",
       "193                                            Calgary                   2026   \n",
       "280  Cypress County|Provost No. 52|Special Area No....                   2020   \n",
       "335                                      Lamont County                   2021   \n",
       "432                                           Edmonton                   2024   \n",
       "\n",
       "             Sector               Type      Stage  \\\n",
       "151       Pipelines          Pipelines  Completed   \n",
       "193  Infrastructure            Transit   Proposed   \n",
       "280       Pipelines          Pipelines    Started   \n",
       "335     Oil and Gas           Upgrader   Proposed   \n",
       "432      Industrial  Telecommunication    Started   \n",
       "\n",
       "                                           Developer  Start Latitude  \\\n",
       "151  Government of Canada/Trans Mountain Corporation       53.543042   \n",
       "193                                  City of Calgary       50.931484   \n",
       "280                          TransCanada Energy Ltd.       52.635032   \n",
       "335                                   SinoCan Global       53.775939   \n",
       "432                                            TELUS       53.540116   \n",
       "\n",
       "     Start Longitude  \n",
       "151      -113.361502  \n",
       "193      -113.968971  \n",
       "280      -111.275432  \n",
       "335      -112.825255  \n",
       "432      -113.491361  "
      ]
     },
     "execution_count": 154,
     "metadata": {},
     "output_type": "execute_result"
    }
   ],
   "source": [
    "data[data['Estimated Cost (millions)']>5000]"
   ]
  },
  {
   "cell_type": "markdown",
   "metadata": {},
   "source": [
    "Names and Number of unique project types"
   ]
  },
  {
   "cell_type": "code",
   "execution_count": 155,
   "metadata": {},
   "outputs": [
    {
     "name": "stdout",
     "output_type": "stream",
     "text": [
      "['Mixed-Use' 'Office: Low-Rise' 'Apartment: Mid-Rise' 'Townhouses'\n",
      " 'Distribution Centre' 'Arts and Culture' 'Business Park' 'Roadwork'\n",
      " 'Transit' 'Office Renovation' 'Research Centre' 'Shopping Plaza'\n",
      " 'Apartment: High-Rise' 'Telecommunication' 'Water/Wastewater' 'Other'\n",
      " 'Airport' 'Emergency Services' 'Flood Mitigation' 'Health Care'\n",
      " 'Administration' 'Post-Secondary' 'Library' 'Continuing Care'\n",
      " 'Student Residence' 'Religious' 'School' 'Gas' 'Oil Sands: In Situ'\n",
      " 'Oil Sands: Mining' 'Upgrader' 'Bioproduct' 'Chemical' 'Metals'\n",
      " 'Military' 'Pipelines' 'Natural Gas' 'Wind' 'Apartment: Low-Rise'\n",
      " 'Attractions' 'Sports Facility' 'Hotel' 'Park' 'Museum' 'Solar'\n",
      " 'Event Space' 'Community Centre' 'Agriculture' 'Community' 'Power Centre'\n",
      " 'Transmission Line' 'Distribution/Storage' 'Big-Box Store'\n",
      " 'Shopping Mall' 'Auto Dealership' 'Bioenergy']\n"
     ]
    },
    {
     "data": {
      "text/plain": [
       "56"
      ]
     },
     "execution_count": 155,
     "metadata": {},
     "output_type": "execute_result"
    }
   ],
   "source": [
    "print(data.Type.unique())\n",
    "len(data.Type.unique())"
   ]
  },
  {
   "cell_type": "markdown",
   "metadata": {},
   "source": [
    "### Bar Chart of Project Types"
   ]
  },
  {
   "cell_type": "code",
   "execution_count": 156,
   "metadata": {},
   "outputs": [
    {
     "data": {
      "text/plain": [
       "<matplotlib.axes._subplots.AxesSubplot at 0x26766d89eb0>"
      ]
     },
     "execution_count": 156,
     "metadata": {},
     "output_type": "execute_result"
    },
    {
     "data": {
      "image/png": "[encoded data removed]",
      "text/plain": [
       "<Figure size 1440x360 with 1 Axes>"
      ]
     },
     "metadata": {
      "needs_background": "light"
     },
     "output_type": "display_data"
    }
   ],
   "source": [
    "data.Type.value_counts().plot.bar(figsize = [20, 5], fontsize = 12)"
   ]
  },
  {
   "cell_type": "markdown",
   "metadata": {},
   "source": [
    "The Projects types with only 1 or 2 Projects are:"
   ]
  },
  {
   "cell_type": "code",
   "execution_count": 157,
   "metadata": {},
   "outputs": [
    {
     "data": {
      "text/html": [
       "<div>\n",
       "<style scoped>\n",
       "    .dataframe tbody tr th:only-of-type {\n",
       "        vertical-align: middle;\n",
       "    }\n",
       "\n",
       "    .dataframe tbody tr th {\n",
       "        vertical-align: top;\n",
       "    }\n",
       "\n",
       "    .dataframe thead th {\n",
       "        text-align: right;\n",
       "    }\n",
       "</style>\n",
       "<table border=\"1\" class=\"dataframe\">\n",
       "  <thead>\n",
       "    <tr style=\"text-align: right;\">\n",
       "      <th></th>\n",
       "      <th>Oil Sands: Mining</th>\n",
       "      <th>Shopping Mall</th>\n",
       "      <th>Distribution/Storage</th>\n",
       "      <th>Auto Dealership</th>\n",
       "      <th>Power Centre</th>\n",
       "      <th>Bioenergy</th>\n",
       "      <th>Student Residence</th>\n",
       "      <th>Transmission Line</th>\n",
       "      <th>Museum</th>\n",
       "      <th>Research Centre</th>\n",
       "    </tr>\n",
       "  </thead>\n",
       "  <tbody>\n",
       "    <tr>\n",
       "      <th>Type</th>\n",
       "      <td>2</td>\n",
       "      <td>2</td>\n",
       "      <td>2</td>\n",
       "      <td>2</td>\n",
       "      <td>1</td>\n",
       "      <td>1</td>\n",
       "      <td>1</td>\n",
       "      <td>1</td>\n",
       "      <td>1</td>\n",
       "      <td>1</td>\n",
       "    </tr>\n",
       "  </tbody>\n",
       "</table>\n",
       "</div>"
      ],
      "text/plain": [
       "      Oil Sands: Mining  Shopping Mall  Distribution/Storage  Auto Dealership  \\\n",
       "Type                  2              2                     2                2   \n",
       "\n",
       "      Power Centre  Bioenergy  Student Residence  Transmission Line  Museum  \\\n",
       "Type             1          1                  1                  1       1   \n",
       "\n",
       "      Research Centre  \n",
       "Type                1  "
      ]
     },
     "execution_count": 157,
     "metadata": {},
     "output_type": "execute_result"
    }
   ],
   "source": [
    "data.Type.value_counts().to_frame().tail(10).transpose()"
   ]
  },
  {
   "cell_type": "markdown",
   "metadata": {},
   "source": [
    "### Names and Number of Unique Sectors"
   ]
  },
  {
   "cell_type": "code",
   "execution_count": 158,
   "metadata": {},
   "outputs": [
    {
     "name": "stdout",
     "output_type": "stream",
     "text": [
      "11\n"
     ]
    },
    {
     "data": {
      "text/html": [
       "<div>\n",
       "<style scoped>\n",
       "    .dataframe tbody tr th:only-of-type {\n",
       "        vertical-align: middle;\n",
       "    }\n",
       "\n",
       "    .dataframe tbody tr th {\n",
       "        vertical-align: top;\n",
       "    }\n",
       "\n",
       "    .dataframe thead th {\n",
       "        text-align: right;\n",
       "    }\n",
       "</style>\n",
       "<table border=\"1\" class=\"dataframe\">\n",
       "  <thead>\n",
       "    <tr style=\"text-align: right;\">\n",
       "      <th></th>\n",
       "      <th>Infrastructure</th>\n",
       "      <th>Institutional</th>\n",
       "      <th>Residential</th>\n",
       "      <th>Tourism / Recreation</th>\n",
       "      <th>Commercial</th>\n",
       "      <th>Power</th>\n",
       "      <th>Industrial</th>\n",
       "      <th>Oil and Gas</th>\n",
       "      <th>Mixed-Use</th>\n",
       "      <th>Retail</th>\n",
       "      <th>Pipelines</th>\n",
       "    </tr>\n",
       "  </thead>\n",
       "  <tbody>\n",
       "    <tr>\n",
       "      <th>Sector</th>\n",
       "      <td>158</td>\n",
       "      <td>127</td>\n",
       "      <td>108</td>\n",
       "      <td>77</td>\n",
       "      <td>48</td>\n",
       "      <td>42</td>\n",
       "      <td>42</td>\n",
       "      <td>32</td>\n",
       "      <td>31</td>\n",
       "      <td>19</td>\n",
       "      <td>11</td>\n",
       "    </tr>\n",
       "  </tbody>\n",
       "</table>\n",
       "</div>"
      ],
      "text/plain": [
       "        Infrastructure  Institutional  Residential  Tourism / Recreation  \\\n",
       "Sector             158            127          108                    77   \n",
       "\n",
       "        Commercial  Power  Industrial  Oil and Gas  Mixed-Use  Retail  \\\n",
       "Sector          48     42          42           32         31      19   \n",
       "\n",
       "        Pipelines  \n",
       "Sector         11  "
      ]
     },
     "execution_count": 158,
     "metadata": {},
     "output_type": "execute_result"
    }
   ],
   "source": [
    "print(len(data.Sector.unique()))\n",
    "data.Sector.value_counts().to_frame().transpose()"
   ]
  },
  {
   "cell_type": "code",
   "execution_count": 159,
   "metadata": {},
   "outputs": [
    {
     "data": {
      "text/plain": [
       "<matplotlib.axes._subplots.AxesSubplot at 0x2677a021f10>"
      ]
     },
     "execution_count": 159,
     "metadata": {},
     "output_type": "execute_result"
    },
    {
     "data": {
      "image/png": "[encoded data removed]",
      "text/plain": [
       "<Figure size 432x288 with 1 Axes>"
      ]
     },
     "metadata": {
      "needs_background": "light"
     },
     "output_type": "display_data"
    }
   ],
   "source": [
    "data.Sector.value_counts().plot.bar()"
   ]
  },
  {
   "cell_type": "markdown",
   "metadata": {},
   "source": [
    "### (Public) Infrastructure Sector"
   ]
  },
  {
   "cell_type": "code",
   "execution_count": 162,
   "metadata": {},
   "outputs": [
    {
     "data": {
      "text/plain": [
       "<matplotlib.axes._subplots.AxesSubplot at 0x267663e0370>"
      ]
     },
     "execution_count": 162,
     "metadata": {},
     "output_type": "execute_result"
    },
    {
     "data": {
      "image/png": "[encoded data removed]",
      "text/plain": [
       "<Figure size 1440x360 with 1 Axes>"
      ]
     },
     "metadata": {
      "needs_background": "light"
     },
     "output_type": "display_data"
    }
   ],
   "source": [
    "data.loc[(data['Sector']=='Infrastructure') & (data['Type']=='Other'), 'Type']='Other Infrastructure'\n",
    "data[data['Sector']=='Infrastructure'].boxplot('Estimated Cost (millions)','Type', figsize = [20, 5], fontsize = 12)"
   ]
  },
  {
   "cell_type": "markdown",
   "metadata": {},
   "source": [
    "### Institutional Sector"
   ]
  },
  {
   "cell_type": "code",
   "execution_count": 165,
   "metadata": {},
   "outputs": [
    {
     "data": {
      "text/plain": [
       "<matplotlib.axes._subplots.AxesSubplot at 0x26765306fa0>"
      ]
     },
     "execution_count": 165,
     "metadata": {},
     "output_type": "execute_result"
    },
    {
     "data": {
      "image/png": "[encoded data removed]",
      "text/plain": [
       "<Figure size 1440x360 with 1 Axes>"
      ]
     },
     "metadata": {
      "needs_background": "light"
     },
     "output_type": "display_data"
    }
   ],
   "source": [
    "data.loc[(data['Sector']=='Institutional') & (data['Type']=='Other'), 'Type']='Other Institutional'\n",
    "data[data['Sector']=='Institutional'].boxplot('Estimated Cost (millions)','Type',figsize = [20, 5], fontsize = 12)"
   ]
  },
  {
   "cell_type": "markdown",
   "metadata": {},
   "source": [
    "### Residential Sector\n",
    "Corrections: High-Rise above $200m are Community Type and Student Residence is Other Residential Type"
   ]
  },
  {
   "cell_type": "code",
   "execution_count": 176,
   "metadata": {},
   "outputs": [],
   "source": [
    "data['Type'] = data['Type'].replace('Student Residence','Other')\n",
    "data.loc[(data['Sector']=='Residential') & (data['Type']=='Other'), 'Type']='Other Residential'\n",
    "data.loc[(data['Sector']=='Residential') & (data['Type']=='Apartment: High-Rise') & (data['Estimated Cost (millions)']>200), 'Type']='Community'"
   ]
  },
  {
   "cell_type": "code",
   "execution_count": 167,
   "metadata": {},
   "outputs": [
    {
     "data": {
      "text/plain": [
       "<matplotlib.axes._subplots.AxesSubplot at 0x2676609eb50>"
      ]
     },
     "execution_count": 167,
     "metadata": {},
     "output_type": "execute_result"
    },
    {
     "data": {
      "image/png": "[encoded data removed]",
      "text/plain": [
       "<Figure size 1440x360 with 1 Axes>"
      ]
     },
     "metadata": {
      "needs_background": "light"
     },
     "output_type": "display_data"
    }
   ],
   "source": [
    "data[data['Sector']=='Residential'].boxplot('Estimated Cost (millions)','Type',figsize = [20, 5], fontsize = 12)"
   ]
  },
  {
   "cell_type": "markdown",
   "metadata": {},
   "source": [
    "### Tourism Sector\n",
    "Correction: Museum is an Attractions Type and Tourism is the Sector"
   ]
  },
  {
   "cell_type": "code",
   "execution_count": 171,
   "metadata": {},
   "outputs": [],
   "source": [
    "data['Sector'] = data['Sector'].replace('Tourism / Recreation','Tourism')\n",
    "data.loc[(data['Sector']=='Tourism') & (data['Type']=='Other'), 'Type']='Other Tourism'\n",
    "data['Type'] = data['Type'].replace('Museum','Attractions')"
   ]
  },
  {
   "cell_type": "code",
   "execution_count": 172,
   "metadata": {},
   "outputs": [
    {
     "data": {
      "text/plain": [
       "<matplotlib.axes._subplots.AxesSubplot at 0x2677a883f40>"
      ]
     },
     "execution_count": 172,
     "metadata": {},
     "output_type": "execute_result"
    },
    {
     "data": {
      "image/png": "[encoded data removed]",
      "text/plain": [
       "<Figure size 1440x360 with 1 Axes>"
      ]
     },
     "metadata": {
      "needs_background": "light"
     },
     "output_type": "display_data"
    }
   ],
   "source": [
    "data[data['Sector']=='Tourism'].boxplot('Estimated Cost (millions)','Type',figsize = [20, 5], fontsize = 12)"
   ]
  },
  {
   "cell_type": "markdown",
   "metadata": {},
   "source": [
    "### Commercial Sector\n",
    "Correction: There is only Office Low-Rise Type, renamed to Offices"
   ]
  },
  {
   "cell_type": "code",
   "execution_count": 173,
   "metadata": {},
   "outputs": [
    {
     "data": {
      "text/plain": [
       "<matplotlib.axes._subplots.AxesSubplot at 0x2677af39be0>"
      ]
     },
     "execution_count": 173,
     "metadata": {},
     "output_type": "execute_result"
    },
    {
     "data": {
      "image/png": "[encoded data removed]",
      "text/plain": [
       "<Figure size 1440x360 with 1 Axes>"
      ]
     },
     "metadata": {
      "needs_background": "light"
     },
     "output_type": "display_data"
    }
   ],
   "source": [
    "data.loc[(data['Sector']=='Commercial') & (data['Type']=='Other'), 'Type']='Other Commercial'\n",
    "data['Type'] = data['Type'].replace('Office: Low-Rise','Offices')\n",
    "data[data['Sector']=='Commercial'].boxplot('Estimated Cost (millions)','Type', figsize = [20, 5], fontsize = 12)"
   ]
  },
  {
   "cell_type": "markdown",
   "metadata": {},
   "source": [
    "### Power Sector\n",
    "Corrections: Bioenergy and Transmisson Line Types renamed to Other"
   ]
  },
  {
   "cell_type": "code",
   "execution_count": 188,
   "metadata": {},
   "outputs": [
    {
     "data": {
      "text/plain": [
       "<matplotlib.axes._subplots.AxesSubplot at 0x2677bfcf640>"
      ]
     },
     "execution_count": 188,
     "metadata": {},
     "output_type": "execute_result"
    },
    {
     "data": {
      "image/png": "[encoded data removed]",
      "text/plain": [
       "<Figure size 1440x360 with 1 Axes>"
      ]
     },
     "metadata": {
      "needs_background": "light"
     },
     "output_type": "display_data"
    }
   ],
   "source": [
    "data['Type'] = data['Type'].replace('Bioenergy','Other')\n",
    "data['Type'] = data['Type'].replace('Natural Gas','Gas Power')\n",
    "data['Type'] = data['Type'].replace('Transmission Line','Other')\n",
    "data.loc[(data['Sector']=='Power') & (data['Type']=='Other'), 'Type']='Other Power'\n",
    "data[data['Sector']=='Power'].boxplot('Estimated Cost (millions)','Type', figsize = [20, 5], fontsize = 12)"
   ]
  },
  {
   "cell_type": "markdown",
   "metadata": {},
   "source": [
    "### Industrial Sector\n",
    "Correction: Research Centre Type renamed to Other Industrial Type"
   ]
  },
  {
   "cell_type": "code",
   "execution_count": 177,
   "metadata": {},
   "outputs": [
    {
     "data": {
      "text/plain": [
       "<matplotlib.axes._subplots.AxesSubplot at 0x2677aecf700>"
      ]
     },
     "execution_count": 177,
     "metadata": {},
     "output_type": "execute_result"
    },
    {
     "data": {
      "image/png": "[encoded data removed]",
      "text/plain": [
       "<Figure size 1440x360 with 1 Axes>"
      ]
     },
     "metadata": {
      "needs_background": "light"
     },
     "output_type": "display_data"
    }
   ],
   "source": [
    "data['Type'] = data['Type'].replace('Research Centre','Other')\n",
    "data.loc[(data['Sector']=='Industrial') & (data['Type']=='Other'), 'Type']='Other Industrial'\n",
    "data[data['Sector']=='Industrial'].boxplot('Estimated Cost (millions)','Type', figsize = [20, 5], fontsize = 12)"
   ]
  },
  {
   "cell_type": "markdown",
   "metadata": {},
   "source": [
    "### Oil and Gas Sector (Including Pipelines)"
   ]
  },
  {
   "cell_type": "code",
   "execution_count": 182,
   "metadata": {},
   "outputs": [
    {
     "data": {
      "text/plain": [
       "<matplotlib.axes._subplots.AxesSubplot at 0x2677bef2970>"
      ]
     },
     "execution_count": 182,
     "metadata": {},
     "output_type": "execute_result"
    },
    {
     "data": {
      "image/png": "[encoded data removed]",
      "text/plain": [
       "<Figure size 1440x360 with 1 Axes>"
      ]
     },
     "metadata": {
      "needs_background": "light"
     },
     "output_type": "display_data"
    }
   ],
   "source": [
    "data['Sector'] = data['Sector'].replace('Pipelines','Oil and Gas')\n",
    "data.loc[(data['Sector']=='Oil and Gas') & (data['Type']=='Other'), 'Type']='Other Oil and Gas'\n",
    "data[data['Sector']=='Oil and Gas'].boxplot('Estimated Cost (millions)','Type', figsize = [20, 5], fontsize = 12)"
   ]
  },
  {
   "cell_type": "markdown",
   "metadata": {},
   "source": [
    "### Retail Sector (Including Mixed-Use)\n",
    "Correction: Power Centre Type renamed to Mixed-Use"
   ]
  },
  {
   "cell_type": "code",
   "execution_count": 179,
   "metadata": {},
   "outputs": [
    {
     "data": {
      "text/plain": [
       "<matplotlib.axes._subplots.AxesSubplot at 0x2677b278850>"
      ]
     },
     "execution_count": 179,
     "metadata": {},
     "output_type": "execute_result"
    },
    {
     "data": {
      "image/png": "[encoded data removed]",
      "text/plain": [
       "<Figure size 1440x360 with 1 Axes>"
      ]
     },
     "metadata": {
      "needs_background": "light"
     },
     "output_type": "display_data"
    }
   ],
   "source": [
    "data['Sector'] = data['Sector'].replace('Mixed-Use','Retail')\n",
    "data.loc[(data['Sector']=='Retail') & (data['Type']=='Other'), 'Type']='Other Retail'\n",
    "data['Type'] = data['Type'].replace('Power Centre','Mixed-Use')\n",
    "data[data['Sector']=='Retail'].boxplot('Estimated Cost (millions)','Type', figsize = [20, 5], fontsize = 12)"
   ]
  },
  {
   "cell_type": "markdown",
   "metadata": {},
   "source": [
    "### Number of Unique Sectors and Types (after corrections)"
   ]
  },
  {
   "cell_type": "code",
   "execution_count": 183,
   "metadata": {},
   "outputs": [
    {
     "name": "stdout",
     "output_type": "stream",
     "text": [
      "Number of Unique Sectors: 9\n",
      "Number of Unique Types: 58\n"
     ]
    }
   ],
   "source": [
    "print('Number of Unique Sectors:',len(data.Sector.unique()))\n",
    "print('Number of Unique Types:',len(data.Type.unique()))"
   ]
  },
  {
   "cell_type": "code",
   "execution_count": 189,
   "metadata": {},
   "outputs": [
    {
     "data": {
      "text/html": [
       "<div>\n",
       "<style scoped>\n",
       "    .dataframe tbody tr th:only-of-type {\n",
       "        vertical-align: middle;\n",
       "    }\n",
       "\n",
       "    .dataframe tbody tr th {\n",
       "        vertical-align: top;\n",
       "    }\n",
       "\n",
       "    .dataframe thead th {\n",
       "        text-align: right;\n",
       "    }\n",
       "</style>\n",
       "<table border=\"1\" class=\"dataframe\">\n",
       "  <thead>\n",
       "    <tr style=\"text-align: right;\">\n",
       "      <th></th>\n",
       "      <th></th>\n",
       "      <th>ProjectId</th>\n",
       "    </tr>\n",
       "    <tr>\n",
       "      <th>Sector</th>\n",
       "      <th>Type</th>\n",
       "      <th></th>\n",
       "    </tr>\n",
       "  </thead>\n",
       "  <tbody>\n",
       "    <tr>\n",
       "      <th rowspan=\"5\" valign=\"top\">Commercial</th>\n",
       "      <th>Business Park</th>\n",
       "      <td>9</td>\n",
       "    </tr>\n",
       "    <tr>\n",
       "      <th>Distribution Centre</th>\n",
       "      <td>5</td>\n",
       "    </tr>\n",
       "    <tr>\n",
       "      <th>Office Renovation</th>\n",
       "      <td>13</td>\n",
       "    </tr>\n",
       "    <tr>\n",
       "      <th>Offices</th>\n",
       "      <td>17</td>\n",
       "    </tr>\n",
       "    <tr>\n",
       "      <th>Other Commercial</th>\n",
       "      <td>4</td>\n",
       "    </tr>\n",
       "    <tr>\n",
       "      <th rowspan=\"6\" valign=\"top\">Industrial</th>\n",
       "      <th>Agriculture</th>\n",
       "      <td>7</td>\n",
       "    </tr>\n",
       "    <tr>\n",
       "      <th>Bioproduct</th>\n",
       "      <td>4</td>\n",
       "    </tr>\n",
       "    <tr>\n",
       "      <th>Chemical</th>\n",
       "      <td>4</td>\n",
       "    </tr>\n",
       "    <tr>\n",
       "      <th>Metals</th>\n",
       "      <td>4</td>\n",
       "    </tr>\n",
       "    <tr>\n",
       "      <th>Other Industrial</th>\n",
       "      <td>14</td>\n",
       "    </tr>\n",
       "    <tr>\n",
       "      <th>Telecommunication</th>\n",
       "      <td>9</td>\n",
       "    </tr>\n",
       "    <tr>\n",
       "      <th rowspan=\"6\" valign=\"top\">Infrastructure</th>\n",
       "      <th>Airport</th>\n",
       "      <td>4</td>\n",
       "    </tr>\n",
       "    <tr>\n",
       "      <th>Flood Mitigation</th>\n",
       "      <td>10</td>\n",
       "    </tr>\n",
       "    <tr>\n",
       "      <th>Other Infrastructure</th>\n",
       "      <td>16</td>\n",
       "    </tr>\n",
       "    <tr>\n",
       "      <th>Roadwork</th>\n",
       "      <td>79</td>\n",
       "    </tr>\n",
       "    <tr>\n",
       "      <th>Transit</th>\n",
       "      <td>12</td>\n",
       "    </tr>\n",
       "    <tr>\n",
       "      <th>Water/Wastewater</th>\n",
       "      <td>37</td>\n",
       "    </tr>\n",
       "    <tr>\n",
       "      <th rowspan=\"10\" valign=\"top\">Institutional</th>\n",
       "      <th>Administration</th>\n",
       "      <td>9</td>\n",
       "    </tr>\n",
       "    <tr>\n",
       "      <th>Continuing Care</th>\n",
       "      <td>22</td>\n",
       "    </tr>\n",
       "    <tr>\n",
       "      <th>Emergency Services</th>\n",
       "      <td>15</td>\n",
       "    </tr>\n",
       "    <tr>\n",
       "      <th>Health Care</th>\n",
       "      <td>16</td>\n",
       "    </tr>\n",
       "    <tr>\n",
       "      <th>Library</th>\n",
       "      <td>3</td>\n",
       "    </tr>\n",
       "    <tr>\n",
       "      <th>Military</th>\n",
       "      <td>3</td>\n",
       "    </tr>\n",
       "    <tr>\n",
       "      <th>Other Institutional</th>\n",
       "      <td>7</td>\n",
       "    </tr>\n",
       "    <tr>\n",
       "      <th>Post-Secondary</th>\n",
       "      <td>21</td>\n",
       "    </tr>\n",
       "    <tr>\n",
       "      <th>Religious</th>\n",
       "      <td>8</td>\n",
       "    </tr>\n",
       "    <tr>\n",
       "      <th>School</th>\n",
       "      <td>23</td>\n",
       "    </tr>\n",
       "    <tr>\n",
       "      <th rowspan=\"7\" valign=\"top\">Oil and Gas</th>\n",
       "      <th>Distribution/Storage</th>\n",
       "      <td>2</td>\n",
       "    </tr>\n",
       "    <tr>\n",
       "      <th>Gas</th>\n",
       "      <td>7</td>\n",
       "    </tr>\n",
       "    <tr>\n",
       "      <th>Oil Sands: In Situ</th>\n",
       "      <td>13</td>\n",
       "    </tr>\n",
       "    <tr>\n",
       "      <th>Oil Sands: Mining</th>\n",
       "      <td>2</td>\n",
       "    </tr>\n",
       "    <tr>\n",
       "      <th>Other Oil and Gas</th>\n",
       "      <td>2</td>\n",
       "    </tr>\n",
       "    <tr>\n",
       "      <th>Pipelines</th>\n",
       "      <td>11</td>\n",
       "    </tr>\n",
       "    <tr>\n",
       "      <th>Upgrader</th>\n",
       "      <td>6</td>\n",
       "    </tr>\n",
       "    <tr>\n",
       "      <th rowspan=\"4\" valign=\"top\">Power</th>\n",
       "      <th>Gas Power</th>\n",
       "      <td>7</td>\n",
       "    </tr>\n",
       "    <tr>\n",
       "      <th>Other Power</th>\n",
       "      <td>8</td>\n",
       "    </tr>\n",
       "    <tr>\n",
       "      <th>Solar</th>\n",
       "      <td>17</td>\n",
       "    </tr>\n",
       "    <tr>\n",
       "      <th>Wind</th>\n",
       "      <td>10</td>\n",
       "    </tr>\n",
       "    <tr>\n",
       "      <th rowspan=\"6\" valign=\"top\">Residential</th>\n",
       "      <th>Apartment: High-Rise</th>\n",
       "      <td>18</td>\n",
       "    </tr>\n",
       "    <tr>\n",
       "      <th>Apartment: Low-Rise</th>\n",
       "      <td>59</td>\n",
       "    </tr>\n",
       "    <tr>\n",
       "      <th>Apartment: Mid-Rise</th>\n",
       "      <td>13</td>\n",
       "    </tr>\n",
       "    <tr>\n",
       "      <th>Community</th>\n",
       "      <td>6</td>\n",
       "    </tr>\n",
       "    <tr>\n",
       "      <th>Other Residential</th>\n",
       "      <td>4</td>\n",
       "    </tr>\n",
       "    <tr>\n",
       "      <th>Townhouses</th>\n",
       "      <td>8</td>\n",
       "    </tr>\n",
       "    <tr>\n",
       "      <th rowspan=\"6\" valign=\"top\">Retail</th>\n",
       "      <th>Auto Dealership</th>\n",
       "      <td>2</td>\n",
       "    </tr>\n",
       "    <tr>\n",
       "      <th>Big-Box Store</th>\n",
       "      <td>5</td>\n",
       "    </tr>\n",
       "    <tr>\n",
       "      <th>Mixed-Use</th>\n",
       "      <td>32</td>\n",
       "    </tr>\n",
       "    <tr>\n",
       "      <th>Other Retail</th>\n",
       "      <td>4</td>\n",
       "    </tr>\n",
       "    <tr>\n",
       "      <th>Shopping Mall</th>\n",
       "      <td>2</td>\n",
       "    </tr>\n",
       "    <tr>\n",
       "      <th>Shopping Plaza</th>\n",
       "      <td>5</td>\n",
       "    </tr>\n",
       "    <tr>\n",
       "      <th rowspan=\"8\" valign=\"top\">Tourism</th>\n",
       "      <th>Arts and Culture</th>\n",
       "      <td>9</td>\n",
       "    </tr>\n",
       "    <tr>\n",
       "      <th>Attractions</th>\n",
       "      <td>8</td>\n",
       "    </tr>\n",
       "    <tr>\n",
       "      <th>Community Centre</th>\n",
       "      <td>4</td>\n",
       "    </tr>\n",
       "    <tr>\n",
       "      <th>Event Space</th>\n",
       "      <td>7</td>\n",
       "    </tr>\n",
       "    <tr>\n",
       "      <th>Hotel</th>\n",
       "      <td>12</td>\n",
       "    </tr>\n",
       "    <tr>\n",
       "      <th>Other Tourism</th>\n",
       "      <td>9</td>\n",
       "    </tr>\n",
       "    <tr>\n",
       "      <th>Park</th>\n",
       "      <td>5</td>\n",
       "    </tr>\n",
       "    <tr>\n",
       "      <th>Sports Facility</th>\n",
       "      <td>23</td>\n",
       "    </tr>\n",
       "  </tbody>\n",
       "</table>\n",
       "</div>"
      ],
      "text/plain": [
       "                                     ProjectId\n",
       "Sector         Type                           \n",
       "Commercial     Business Park                 9\n",
       "               Distribution Centre           5\n",
       "               Office Renovation            13\n",
       "               Offices                      17\n",
       "               Other Commercial              4\n",
       "Industrial     Agriculture                   7\n",
       "               Bioproduct                    4\n",
       "               Chemical                      4\n",
       "               Metals                        4\n",
       "               Other Industrial             14\n",
       "               Telecommunication             9\n",
       "Infrastructure Airport                       4\n",
       "               Flood Mitigation             10\n",
       "               Other Infrastructure         16\n",
       "               Roadwork                     79\n",
       "               Transit                      12\n",
       "               Water/Wastewater             37\n",
       "Institutional  Administration                9\n",
       "               Continuing Care              22\n",
       "               Emergency Services           15\n",
       "               Health Care                  16\n",
       "               Library                       3\n",
       "               Military                      3\n",
       "               Other Institutional           7\n",
       "               Post-Secondary               21\n",
       "               Religious                     8\n",
       "               School                       23\n",
       "Oil and Gas    Distribution/Storage          2\n",
       "               Gas                           7\n",
       "               Oil Sands: In Situ           13\n",
       "               Oil Sands: Mining             2\n",
       "               Other Oil and Gas             2\n",
       "               Pipelines                    11\n",
       "               Upgrader                      6\n",
       "Power          Gas Power                     7\n",
       "               Other Power                   8\n",
       "               Solar                        17\n",
       "               Wind                         10\n",
       "Residential    Apartment: High-Rise         18\n",
       "               Apartment: Low-Rise          59\n",
       "               Apartment: Mid-Rise          13\n",
       "               Community                     6\n",
       "               Other Residential             4\n",
       "               Townhouses                    8\n",
       "Retail         Auto Dealership               2\n",
       "               Big-Box Store                 5\n",
       "               Mixed-Use                    32\n",
       "               Other Retail                  4\n",
       "               Shopping Mall                 2\n",
       "               Shopping Plaza                5\n",
       "Tourism        Arts and Culture              9\n",
       "               Attractions                   8\n",
       "               Community Centre              4\n",
       "               Event Space                   7\n",
       "               Hotel                        12\n",
       "               Other Tourism                 9\n",
       "               Park                          5\n",
       "               Sports Facility              23"
      ]
     },
     "execution_count": 189,
     "metadata": {},
     "output_type": "execute_result"
    }
   ],
   "source": [
    "data[['Sector', 'Type', 'ProjectId']].groupby(by=['Sector','Type']).count()"
   ]
  },
  {
   "cell_type": "code",
   "execution_count": null,
   "metadata": {},
   "outputs": [],
   "source": []
  }
 ],
 "metadata": {
  "kernelspec": {
   "display_name": "Python 3",
   "language": "python",
   "name": "python3"
  },
  "language_info": {
   "codemirror_mode": {
    "name": "ipython",
    "version": 3
   },
   "file_extension": ".py",
   "mimetype": "text/x-python",
   "name": "python",
   "nbconvert_exporter": "python",
   "pygments_lexer": "ipython3",
   "version": "3.8.3"
  }
 },
 "nbformat": 4,
 "nbformat_minor": 4
}
